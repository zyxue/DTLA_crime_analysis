{
 "cells": [
  {
   "cell_type": "code",
   "execution_count": 1,
   "metadata": {},
   "outputs": [
    {
     "name": "stdout",
     "output_type": "stream",
     "text": [
      "seaborn not found\n",
      "sqlalchemy not found\n"
     ]
    },
    {
     "data": {
      "text/html": [
       "\n",
       "<style>\n",
       "   div#notebook-container    { width: 100%; }\n",
       "   div#menubar-container     { width: 100%; }\n",
       "   div#maintoolbar-container { width: 100%; }\n",
       "</style>\n"
      ],
      "text/plain": [
       "<IPython.core.display.HTML object>"
      ]
     },
     "metadata": {},
     "output_type": "display_data"
    }
   ],
   "source": [
    "from eda_imports import *\n",
    "\n",
    "import geopandas\n",
    "import dateparser"
   ]
  },
  {
   "cell_type": "code",
   "execution_count": 2,
   "metadata": {},
   "outputs": [
    {
     "name": "stdout",
     "output_type": "stream",
     "text": [
      "CPU times: user 855 ms, sys: 730 ms, total: 1.58 s\n",
      "Wall time: 9.18 s\n"
     ]
    }
   ],
   "source": [
    "%time htmls = list(sorted(glob.glob('./data/raw/by_neighborhood/*/201[7-9]/*/*.html')))"
   ]
  },
  {
   "cell_type": "code",
   "execution_count": 3,
   "metadata": {},
   "outputs": [
    {
     "data": {
      "text/plain": [
       "42432"
      ]
     },
     "execution_count": 3,
     "metadata": {},
     "output_type": "execute_result"
    }
   ],
   "source": [
    "len(htmls)"
   ]
  },
  {
   "cell_type": "code",
   "execution_count": 4,
   "metadata": {},
   "outputs": [
    {
     "name": "stderr",
     "output_type": "stream",
     "text": [
      " 32%|███▏      | 13406/42432 [00:33<00:57, 501.00it/s]"
     ]
    },
    {
     "name": "stdout",
     "output_type": "stream",
     "text": [
      "./data/raw/by_neighborhood/gramercy-park/2018/27/27.html\n"
     ]
    },
    {
     "name": "stderr",
     "output_type": "stream",
     "text": [
      " 42%|████▏     | 17839/42432 [00:44<01:18, 312.11it/s]"
     ]
    },
    {
     "name": "stdout",
     "output_type": "stream",
     "text": [
      "./data/raw/by_neighborhood/la-canada-flintridge/2017/15/15.html\n"
     ]
    },
    {
     "name": "stderr",
     "output_type": "stream",
     "text": [
      " 61%|██████    | 25813/42432 [01:02<01:05, 252.51it/s]"
     ]
    },
    {
     "name": "stdout",
     "output_type": "stream",
     "text": [
      "./data/raw/by_neighborhood/palmdale/2017/42/42.html\n"
     ]
    },
    {
     "name": "stderr",
     "output_type": "stream",
     "text": [
      " 79%|███████▉  | 33450/42432 [01:18<00:23, 385.33it/s]"
     ]
    },
    {
     "name": "stdout",
     "output_type": "stream",
     "text": [
      "./data/raw/by_neighborhood/southeast-antelope-valley/2017/28/28.html\n"
     ]
    },
    {
     "name": "stderr",
     "output_type": "stream",
     "text": [
      " 99%|█████████▉| 42050/42432 [01:39<00:00, 402.44it/s]"
     ]
    },
    {
     "name": "stdout",
     "output_type": "stream",
     "text": [
      "./data/raw/by_neighborhood/windsor-square/2017/37/37.html\n"
     ]
    },
    {
     "name": "stderr",
     "output_type": "stream",
     "text": [
      "100%|██████████| 42432/42432 [01:40<00:00, 421.46it/s]\n"
     ]
    }
   ],
   "source": [
    "res = []\n",
    "for f in tqdm(htmls):\n",
    "    with open(f, 'rt') as opf:\n",
    "        try:\n",
    "            doc = opf.read()\n",
    "            search = re.search(r'var crimeFeatures = (?P<json_str>[^\\;]+)', doc)\n",
    "            data = eval(search.group('json_str'))\n",
    "            _df = geopandas.GeoDataFrame.from_features(data['features'])\n",
    "            res.append(_df)\n",
    "        except Exception as err:\n",
    "            print(f)"
   ]
  },
  {
   "cell_type": "code",
   "execution_count": 5,
   "metadata": {},
   "outputs": [],
   "source": [
    "adf = pd.concat(res)"
   ]
  },
  {
   "cell_type": "code",
   "execution_count": 6,
   "metadata": {},
   "outputs": [],
   "source": [
    "adf.rename(columns={'datetime': 'datetime_str'}, inplace=True)"
   ]
  },
  {
   "cell_type": "code",
   "execution_count": null,
   "metadata": {},
   "outputs": [
    {
     "name": "stderr",
     "output_type": "stream",
     "text": [
      "  0%|          | 16/442383 [00:00<46:15, 159.37it/s]"
     ]
    },
    {
     "name": "stdout",
     "output_type": "stream",
     "text": [
      "CPU times: user 3 µs, sys: 0 ns, total: 3 µs\n",
      "Wall time: 6.91 µs\n"
     ]
    },
    {
     "name": "stderr",
     "output_type": "stream",
     "text": [
      " 53%|█████▎    | 233990/442383 [15:22<13:16, 261.76it/s]"
     ]
    }
   ],
   "source": [
    "%time\n",
    "dts = []\n",
    "for i in tqdm(adf.datetime_str.values):\n",
    "    dts.append(dateparser.parse(i))"
   ]
  },
  {
   "cell_type": "code",
   "execution_count": 9,
   "metadata": {},
   "outputs": [],
   "source": [
    "adf['datetime'] = pd.to_datetime(dts)"
   ]
  },
  {
   "cell_type": "code",
   "execution_count": 11,
   "metadata": {},
   "outputs": [
    {
     "data": {
      "text/html": [
       "<div>\n",
       "<style scoped>\n",
       "    .dataframe tbody tr th:only-of-type {\n",
       "        vertical-align: middle;\n",
       "    }\n",
       "\n",
       "    .dataframe tbody tr th {\n",
       "        vertical-align: top;\n",
       "    }\n",
       "\n",
       "    .dataframe thead th {\n",
       "        text-align: right;\n",
       "    }\n",
       "</style>\n",
       "<table border=\"1\" class=\"dataframe\">\n",
       "  <thead>\n",
       "    <tr style=\"text-align: right;\">\n",
       "      <th></th>\n",
       "      <th>datetime_str</th>\n",
       "      <th>geometry</th>\n",
       "      <th>icon_url</th>\n",
       "      <th>location</th>\n",
       "      <th>offense_type</th>\n",
       "      <th>url</th>\n",
       "      <th>datetime</th>\n",
       "    </tr>\n",
       "  </thead>\n",
       "  <tbody>\n",
       "    <tr>\n",
       "      <th>0</th>\n",
       "      <td>Jan. 10, 2009, 11 p.m.</td>\n",
       "      <td>POINT (-118.248596 34.059957)</td>\n",
       "      <td>http://www.latimes.com/includes/projects/img/crime/crime_vehicle.png</td>\n",
       "      <td>Temple Street and Figueroa</td>\n",
       "      <td>Theft from vehicle</td>\n",
       "      <td>/crime/report/16236/</td>\n",
       "      <td>2009-01-10 23:00:00</td>\n",
       "    </tr>\n",
       "    <tr>\n",
       "      <th>1</th>\n",
       "      <td>Jan. 10, 2009, 11 p.m.</td>\n",
       "      <td>POINT (-118.256068 34.042302)</td>\n",
       "      <td>http://www.latimes.com/includes/projects/img/crime/crime_vehicle.png</td>\n",
       "      <td>Broadway and 9th Street</td>\n",
       "      <td>Theft from vehicle</td>\n",
       "      <td>/crime/report/16237/</td>\n",
       "      <td>2009-01-10 23:00:00</td>\n",
       "    </tr>\n",
       "    <tr>\n",
       "      <th>2</th>\n",
       "      <td>Jan. 10, 2009, 11 p.m.</td>\n",
       "      <td>POINT (-118.241499 34.039904)</td>\n",
       "      <td>http://www.latimes.com/includes/projects/img/crime/crime_robbery.png</td>\n",
       "      <td>800 block of East 6th Street</td>\n",
       "      <td>Robbery</td>\n",
       "      <td>/crime/report/16235/</td>\n",
       "      <td>2009-01-10 23:00:00</td>\n",
       "    </tr>\n",
       "    <tr>\n",
       "      <th>3</th>\n",
       "      <td>Jan. 10, 2009, 7:10 p.m.</td>\n",
       "      <td>POINT (-118.243629 34.042139)</td>\n",
       "      <td>http://www.latimes.com/includes/projects/img/crime/crime_theft.png</td>\n",
       "      <td>500 block of Crocker Street</td>\n",
       "      <td>Theft</td>\n",
       "      <td>/crime/report/16325/</td>\n",
       "      <td>2009-01-10 19:10:00</td>\n",
       "    </tr>\n",
       "    <tr>\n",
       "      <th>4</th>\n",
       "      <td>Jan. 10, 2009, 6:50 p.m.</td>\n",
       "      <td>POINT (-118.264721 34.036004)</td>\n",
       "      <td>http://www.latimes.com/includes/projects/img/crime/crime_robbery.png</td>\n",
       "      <td>1400 block of South Olive Street</td>\n",
       "      <td>Robbery</td>\n",
       "      <td>/crime/report/16334/</td>\n",
       "      <td>2009-01-10 18:50:00</td>\n",
       "    </tr>\n",
       "    <tr>\n",
       "      <th>5</th>\n",
       "      <td>Jan. 10, 2009, 6:25 p.m.</td>\n",
       "      <td>POINT (-118.251683 34.04131)</td>\n",
       "      <td>http://www.latimes.com/includes/projects/img/crime/crime_robbery.png</td>\n",
       "      <td>Santee and 8th</td>\n",
       "      <td>Robbery</td>\n",
       "      <td>/crime/report/16339/</td>\n",
       "      <td>2009-01-10 18:25:00</td>\n",
       "    </tr>\n",
       "    <tr>\n",
       "      <th>6</th>\n",
       "      <td>Jan. 10, 2009, 5:30 p.m.</td>\n",
       "      <td>POINT (-118.256321 34.050419)</td>\n",
       "      <td>http://www.latimes.com/includes/projects/img/crime/crime_vehicle.png</td>\n",
       "      <td>500 block of South Flower Street</td>\n",
       "      <td>Theft from vehicle</td>\n",
       "      <td>/crime/report/16358/</td>\n",
       "      <td>2009-01-10 17:30:00</td>\n",
       "    </tr>\n",
       "    <tr>\n",
       "      <th>7</th>\n",
       "      <td>Jan. 10, 2009, 4:45 p.m.</td>\n",
       "      <td>POINT (-118.243364 34.052208)</td>\n",
       "      <td>http://www.latimes.com/includes/projects/img/crime/crime_theft.png</td>\n",
       "      <td>100 block of West 1st Street</td>\n",
       "      <td>Theft</td>\n",
       "      <td>/crime/report/16379/</td>\n",
       "      <td>2009-01-10 16:45:00</td>\n",
       "    </tr>\n",
       "    <tr>\n",
       "      <th>8</th>\n",
       "      <td>Jan. 10, 2009, 3 p.m.</td>\n",
       "      <td>POINT (-118.238051 34.045501)</td>\n",
       "      <td>http://www.latimes.com/includes/projects/img/crime/crime_vehicle.png</td>\n",
       "      <td>3rd and Alameda streets</td>\n",
       "      <td>Theft from vehicle</td>\n",
       "      <td>/crime/report/16412/</td>\n",
       "      <td>2009-01-10 15:00:00</td>\n",
       "    </tr>\n",
       "    <tr>\n",
       "      <th>9</th>\n",
       "      <td>Jan. 10, 2009, 2 p.m.</td>\n",
       "      <td>POINT (-118.254838 34.049115)</td>\n",
       "      <td>http://www.latimes.com/includes/projects/img/crime/crime_theft.png</td>\n",
       "      <td>500 block of South Grand Avenue</td>\n",
       "      <td>Theft</td>\n",
       "      <td>/crime/report/16433/</td>\n",
       "      <td>2009-01-10 14:00:00</td>\n",
       "    </tr>\n",
       "  </tbody>\n",
       "</table>\n",
       "</div>"
      ],
      "text/plain": [
       "               datetime_str                       geometry  \\\n",
       "0  Jan. 10, 2009, 11 p.m.    POINT (-118.248596 34.059957)   \n",
       "1  Jan. 10, 2009, 11 p.m.    POINT (-118.256068 34.042302)   \n",
       "2  Jan. 10, 2009, 11 p.m.    POINT (-118.241499 34.039904)   \n",
       "3  Jan. 10, 2009, 7:10 p.m.  POINT (-118.243629 34.042139)   \n",
       "4  Jan. 10, 2009, 6:50 p.m.  POINT (-118.264721 34.036004)   \n",
       "5  Jan. 10, 2009, 6:25 p.m.  POINT (-118.251683 34.04131)    \n",
       "6  Jan. 10, 2009, 5:30 p.m.  POINT (-118.256321 34.050419)   \n",
       "7  Jan. 10, 2009, 4:45 p.m.  POINT (-118.243364 34.052208)   \n",
       "8  Jan. 10, 2009, 3 p.m.     POINT (-118.238051 34.045501)   \n",
       "9  Jan. 10, 2009, 2 p.m.     POINT (-118.254838 34.049115)   \n",
       "\n",
       "                                                               icon_url  \\\n",
       "0  http://www.latimes.com/includes/projects/img/crime/crime_vehicle.png   \n",
       "1  http://www.latimes.com/includes/projects/img/crime/crime_vehicle.png   \n",
       "2  http://www.latimes.com/includes/projects/img/crime/crime_robbery.png   \n",
       "3  http://www.latimes.com/includes/projects/img/crime/crime_theft.png     \n",
       "4  http://www.latimes.com/includes/projects/img/crime/crime_robbery.png   \n",
       "5  http://www.latimes.com/includes/projects/img/crime/crime_robbery.png   \n",
       "6  http://www.latimes.com/includes/projects/img/crime/crime_vehicle.png   \n",
       "7  http://www.latimes.com/includes/projects/img/crime/crime_theft.png     \n",
       "8  http://www.latimes.com/includes/projects/img/crime/crime_vehicle.png   \n",
       "9  http://www.latimes.com/includes/projects/img/crime/crime_theft.png     \n",
       "\n",
       "                           location        offense_type                   url  \\\n",
       "0  Temple Street and Figueroa        Theft from vehicle  /crime/report/16236/   \n",
       "1  Broadway and 9th Street           Theft from vehicle  /crime/report/16237/   \n",
       "2  800 block of East 6th Street      Robbery             /crime/report/16235/   \n",
       "3  500 block of Crocker Street       Theft               /crime/report/16325/   \n",
       "4  1400 block of South Olive Street  Robbery             /crime/report/16334/   \n",
       "5  Santee and 8th                    Robbery             /crime/report/16339/   \n",
       "6  500 block of South Flower Street  Theft from vehicle  /crime/report/16358/   \n",
       "7  100 block of West 1st Street      Theft               /crime/report/16379/   \n",
       "8  3rd and Alameda streets           Theft from vehicle  /crime/report/16412/   \n",
       "9  500 block of South Grand Avenue   Theft               /crime/report/16433/   \n",
       "\n",
       "             datetime  \n",
       "0 2009-01-10 23:00:00  \n",
       "1 2009-01-10 23:00:00  \n",
       "2 2009-01-10 23:00:00  \n",
       "3 2009-01-10 19:10:00  \n",
       "4 2009-01-10 18:50:00  \n",
       "5 2009-01-10 18:25:00  \n",
       "6 2009-01-10 17:30:00  \n",
       "7 2009-01-10 16:45:00  \n",
       "8 2009-01-10 15:00:00  \n",
       "9 2009-01-10 14:00:00  "
      ]
     },
     "execution_count": 11,
     "metadata": {},
     "output_type": "execute_result"
    }
   ],
   "source": [
    "adf.head(10)"
   ]
  },
  {
   "cell_type": "code",
   "execution_count": 14,
   "metadata": {},
   "outputs": [],
   "source": [
    "bdf = adf.drop('icon_url', axis=1)"
   ]
  },
  {
   "cell_type": "code",
   "execution_count": 22,
   "metadata": {},
   "outputs": [],
   "source": [
    "bdf['year'] = bdf.datetime.dt.year\n",
    "bdf['month'] = bdf.datetime.dt.month\n",
    "bdf['day'] = bdf.datetime.dt.day\n",
    "bdf['day_of_week'] = bdf.datetime.dt.dayofweek\n",
    "bdf['hour'] = bdf.datetime.dt.hour"
   ]
  },
  {
   "cell_type": "code",
   "execution_count": 23,
   "metadata": {},
   "outputs": [
    {
     "name": "stdout",
     "output_type": "stream",
     "text": [
      "CPU times: user 966 ms, sys: 19.4 ms, total: 985 ms\n",
      "Wall time: 990 ms\n"
     ]
    }
   ],
   "source": [
    "%time bdf.to_pickle('./data/DTLA_crime_data_2009_to_2019.pkl')"
   ]
  },
  {
   "cell_type": "code",
   "execution_count": null,
   "metadata": {},
   "outputs": [],
   "source": []
  }
 ],
 "metadata": {
  "kernelspec": {
   "display_name": "Python 3",
   "language": "python",
   "name": "python3"
  },
  "language_info": {
   "codemirror_mode": {
    "name": "ipython",
    "version": 3
   },
   "file_extension": ".py",
   "mimetype": "text/x-python",
   "name": "python",
   "nbconvert_exporter": "python",
   "pygments_lexer": "ipython3",
   "version": "3.7.3"
  }
 },
 "nbformat": 4,
 "nbformat_minor": 2
}
